{
 "cells": [
  {
   "cell_type": "markdown",
   "metadata": {},
   "source": [
    "# This is Jeopardy!"
   ]
  },
  {
   "attachments": {},
   "cell_type": "markdown",
   "metadata": {},
   "source": [
    "### Project goals\n",
    "This project contained a series of open-ended requirements, work to write several functions that investigate a dataset of _Jeopardy!_ questions and answers, filter the dataset for topics of interest and compute the average difficulty of those questions, to train to become the next Jeopardy champion!\n",
    "\n",
    "As this is a learning, I've left in my 'thinking aloud' comments.\n",
    "### Skills involved\n",
    "* pandas for data analysis\n",
    "* basic data cleaning\n"
   ]
  },
  {
   "attachments": {},
   "cell_type": "markdown",
   "metadata": {},
   "source": [
    "## Project tasks"
   ]
  },
  {
   "attachments": {},
   "cell_type": "markdown",
   "metadata": {},
   "source": [
    "1. Provided is a csv file containing data about the game show _Jeopardy!_ in a file named `jeopardy.csv`. Load the data into a DataFrame and investigate its contents. Try to print out specific columns.\n",
    "\n",
    "   This data isn't \"clean\". More specifically, there's something odd about the column names. After you figure out the problem with the column names, you may want to rename them to make your life easier for the rest of the project.\n",
    "   \n",
    "   In order to display the full contents of a column, this line of code was given:\n",
    "   \n",
    "   ```py\n",
    "   pd.set_option('display.max_colwidth', None)\n",
    "   ```"
   ]
  },
  {
   "cell_type": "code",
   "execution_count": 2,
   "metadata": {},
   "outputs": [],
   "source": [
    "import pandas as pd\n",
    "pd.set_option('display.max_colwidth', None)\n",
    "\n",
    "jeop = pd.read_csv('jeopardy.csv')"
   ]
  },
  {
   "cell_type": "code",
   "execution_count": 3,
   "metadata": {},
   "outputs": [
    {
     "name": "stdout",
     "output_type": "stream",
     "text": [
      "   Show Number    Air Date      Round                         Category  Value  \\\n",
      "0         4680  2004-12-31  Jeopardy!                          HISTORY   $200   \n",
      "1         4680  2004-12-31  Jeopardy!  ESPN's TOP 10 ALL-TIME ATHLETES   $200   \n",
      "2         4680  2004-12-31  Jeopardy!      EVERYBODY TALKS ABOUT IT...   $200   \n",
      "3         4680  2004-12-31  Jeopardy!                 THE COMPANY LINE   $200   \n",
      "4         4680  2004-12-31  Jeopardy!              EPITAPHS & TRIBUTES   $200   \n",
      "\n",
      "                                                                                                      Question  \\\n",
      "0             For the last 8 years of his life, Galileo was under house arrest for espousing this man's theory   \n",
      "1  No. 2: 1912 Olympian; football star at Carlisle Indian School; 6 MLB seasons with the Reds, Giants & Braves   \n",
      "2                     The city of Yuma in this state has a record average of 4,055 hours of sunshine each year   \n",
      "3                         In 1963, live on \"The Art Linkletter Show\", this company served its billionth burger   \n",
      "4     Signer of the Dec. of Indep., framer of the Constitution of Mass., second President of the United States   \n",
      "\n",
      "       Answer  \n",
      "0  Copernicus  \n",
      "1  Jim Thorpe  \n",
      "2     Arizona  \n",
      "3  McDonald's  \n",
      "4  John Adams  \n"
     ]
    }
   ],
   "source": [
    "print(jeop.head())"
   ]
  },
  {
   "cell_type": "code",
   "execution_count": 4,
   "metadata": {},
   "outputs": [
    {
     "name": "stdout",
     "output_type": "stream",
     "text": [
      "Number of entries:  216930\n",
      "Shape: \n",
      "(216930, 7)\n",
      "Columns: \n",
      "Index(['Show Number', ' Air Date', ' Round', ' Category', ' Value',\n",
      "       ' Question', ' Answer'],\n",
      "      dtype='object')\n"
     ]
    }
   ],
   "source": [
    "print('Number of entries: ' , len(jeop))\n",
    "print('Shape: ')\n",
    "print(jeop.shape) # shape: (rows, columns)\n",
    "print(\"Columns: \")\n",
    "print(jeop.columns) # this is an ATTRIBUTE, NOT a method - hence no ()"
   ]
  },
  {
   "cell_type": "code",
   "execution_count": 5,
   "metadata": {},
   "outputs": [
    {
     "name": "stdout",
     "output_type": "stream",
     "text": [
      "Index(['show_number', 'air_date', 'round', 'category', 'value', 'question',\n",
      "       'answer'],\n",
      "      dtype='object')\n"
     ]
    }
   ],
   "source": [
    "# Noted that the column names have leading spaces. \n",
    "# Removed leading spaces to avoid later issues\n",
    "## NOTES TO REVIEW: 1. Do these actions edit the original file if this were off codecademy?\n",
    "## 2. Can I create a code that checks for space and removes/repalces with _ to use as a standard practice?\n",
    "jeop = jeop.rename(columns={\"Show Number\": \"show_number\", \" Air Date\": \"air_date\", \" Round\": \"round\", \" Category\": \"category\", \" Value\": \"value\", \" Question\": \"question\", \" Answer\": \"answer\"})\n",
    "print(jeop.columns)\n",
    "\n"
   ]
  },
  {
   "cell_type": "code",
   "execution_count": 6,
   "metadata": {},
   "outputs": [
    {
     "name": "stdout",
     "output_type": "stream",
     "text": [
      "count         216930\n",
      "unique          3640\n",
      "top       1997-05-19\n",
      "freq              62\n",
      "Name: air_date, dtype: object\n"
     ]
    }
   ],
   "source": [
    "show_nums = jeop.show_number.nunique()\n",
    "#print(show_nums)\n",
    "#print(jeop.show_number.unique())\n",
    "\n",
    "print(jeop.air_date.describe(include='all'))"
   ]
  },
  {
   "cell_type": "code",
   "execution_count": 7,
   "metadata": {},
   "outputs": [
    {
     "name": "stdout",
     "output_type": "stream",
     "text": [
      "show_number     int64\n",
      "air_date       object\n",
      "round          object\n",
      "category       object\n",
      "value          object\n",
      "question       object\n",
      "answer         object\n",
      "dtype: object\n"
     ]
    }
   ],
   "source": [
    "print(jeop.dtypes)"
   ]
  },
  {
   "attachments": {},
   "cell_type": "markdown",
   "metadata": {},
   "source": [
    "Aside from show_number, all types are objects. \n",
    "* Air date may be better as something else\n",
    "* Round: check for unique values, but probably best as string\n",
    "* Category: object or string\n",
    "* Value: Remove '$' and convert to int or float\n",
    "* Question & answer: liklely best strings\n",
    "\n",
    "Aware of the types, see if type issues arise and need to convert"
   ]
  },
  {
   "cell_type": "code",
   "execution_count": null,
   "metadata": {},
   "outputs": [],
   "source": [
    "print(jeop['round'].unique())"
   ]
  },
  {
   "cell_type": "markdown",
   "metadata": {},
   "source": [
    "2. Write a function that filters the dataset for questions that contains all of the words in a list of words. For example, when the list `[\"King\", \"England\"]` was passed to our function, the function returned a DataFrame of 49 rows. Every row had the strings `\"King\"` and `\"England\"` somewhere in its `\" Question\"`.\n",
    "\n",
    "   Test your function by printing out the column containing the question of each row of the dataset."
   ]
  },
  {
   "attachments": {},
   "cell_type": "markdown",
   "metadata": {},
   "source": [
    "My final function was taken from the given solutions. I originally tried to find a solution by:\n",
    "Filtering the 'question' column for words in the word list, but didn't manage. I would then have created a column for True (contains both words) and then grouped by, printing the rows relevant. \n",
    "\n",
    "I took this opportunity to improve my knowledge of lambda functions. They work best when use annoymously inside another function. \n",
    "\n",
    "lambda _arguments : expression_ "
   ]
  },
  {
   "cell_type": "code",
   "execution_count": 9,
   "metadata": {},
   "outputs": [],
   "source": [
    "#def word_search(df, word_list):\n",
    "    #df['filtered_qs'] = df['Question'].contains(word_list)\n",
    "\n",
    "    #df.\n",
    "    #df['filtered_qs'].groupby(True)\n"
   ]
  },
  {
   "cell_type": "code",
   "execution_count": null,
   "metadata": {},
   "outputs": [],
   "source": [
    "# Filtering a dataset by a list of words\n",
    "def filter_data(data, words):\n",
    "  # Returns true if all of the words in the list appear in the question.\n",
    "  filter = lambda x: all(word in x for word in words)\n",
    "  # Applies the lambda function to the question column and returns the rows where the function returned True\n",
    "  return data.loc[data[\"question\"].apply(filter)]\n",
    "\n",
    "# Testing the filter function\n",
    "filtered = filter_data(jeop, [\"King\", \"England\"])\n",
    "print(filtered[\"question\"])"
   ]
  },
  {
   "cell_type": "markdown",
   "metadata": {},
   "source": [
    "3. Test your original function with a few different sets of words to try to find some ways your function breaks. Edit your function so it is more robust.\n",
    "\n",
    "   For example, think about capitalization. We probably want to find questions that contain the word `\"King\"` or `\"king\"`.\n",
    "   \n",
    "   You may also want to check to make sure you don't find rows that contain substrings of your given words. For example, our function found a question that didn't contain the word `\"king\"`, however it did contain the word `\"viking\"` &mdash; it found the `\"king\"` inside `\"viking\"`. Note that this also comes with some drawbacks &mdash; you would no longer find questions that contained words like `\"England's\"`."
   ]
  },
  {
   "cell_type": "code",
   "execution_count": 11,
   "metadata": {},
   "outputs": [
    {
     "name": "stdout",
     "output_type": "stream",
     "text": [
      "4953                    Both England's King George V & FDR put their stamp of approval on this \"King of Hobbies\"\n",
      "6337      In retaliation for Viking raids, this \"Unready\" king of England attacks Norse areas of the Isle of Man\n",
      "9191                    This king of England beat the odds to trounce the French in the 1415 Battle of Agincourt\n",
      "11710               This Scotsman, the first Stuart king of England, was called \"The Wisest Fool in Christendom\"\n",
      "13454                                       It's the number that followed the last king of England named William\n",
      "                                                           ...                                                  \n",
      "208295        In 1066 this great-great grandson of Rollo made what some call the last Viking invasion of England\n",
      "208742                      Dutch-born king who ruled England jointly with Mary II & is a tasty New Zealand fish\n",
      "213870                In 1781 William Herschel discovered Uranus & initially named it after this king of England\n",
      "216021          His nickname was \"Bertie\", but he used this name & number when he became king of England in 1901\n",
      "216789        This kingdom of England grew from 2 settlements, one founded around 495 by Cerdic & his son Cynric\n",
      "Name: question, Length: 152, dtype: object\n"
     ]
    }
   ],
   "source": [
    "def filter_data(data, words):\n",
    "  # Returns true if all of the words in the list appear in the question.\n",
    "  filter = lambda x: all(word.lower() in x.lower() for word in words)\n",
    "  # filter = lambda x: all(words.lower() in x.lower()) #cannot apply .lower() to a whole list\n",
    "  \n",
    "  # Applies the lambda function to the question column and returns the rows where the function returned True\n",
    "  return data.loc[data[\"question\"].apply(filter)]\n",
    "\n",
    "# Testing the filter function\n",
    "filtered = filter_data(jeop, [\"King\", \"England\"])\n",
    "print(filtered[\"question\"])"
   ]
  },
  {
   "cell_type": "markdown",
   "metadata": {},
   "source": [
    "4. We may want to eventually compute aggregate statistics, like `.mean()` on the `\" Value\"` column. But right now, the values in that column are strings. Convert the`\" Value\"` column to floats. If you'd like to, you can create a new column with float values.\n",
    "\n",
    "   Now that you can filter the dataset of question, use your new column that contains the float values of each question to find the \"difficulty\" of certain topics. For example, what is the average value of questions that contain the word `\"King\"`?\n",
    "   \n",
    "   Make sure to use the dataset that contains the float values as the dataset you use in your filtering function."
   ]
  },
  {
   "attachments": {},
   "cell_type": "markdown",
   "metadata": {},
   "source": [
    "Again, I checked the solution code for this. I tried to use .strip() (below) to remove the \\$ but it wouldn't work. I think my type knowledge needs expanding.\\\n",
    "_Solution_: \n",
    "* Adding a new column.\n",
    "* If the value of the float column is not \"None\", then we SLICE off the first character (the '$'), and replace all commas with nothing, and then cast that value to a float. \n",
    "* If the answer was \"None\", then we just enter a 0."
   ]
  },
  {
   "cell_type": "code",
   "execution_count": null,
   "metadata": {},
   "outputs": [],
   "source": [
    "\n",
    "jeop[\"Float Value\"] = jeop[\"value\"].apply(lambda x: float(x[1:].replace(',','')) if x != \"None\" else 0)\n",
    "\n",
    "# Filtering the dataset and finding the average value of those questions\n",
    "filtered = filter_data(jeop, [\"King\"])\n",
    "print(filtered[\"Float Value\"].mean())"
   ]
  },
  {
   "attachments": {},
   "cell_type": "markdown",
   "metadata": {},
   "source": [
    "My start of an attempt:"
   ]
  },
  {
   "cell_type": "code",
   "execution_count": null,
   "metadata": {},
   "outputs": [],
   "source": [
    "#jeop['value_float'] = jeop['value'].strip(['$'])\n",
    "#print(jeop.head())"
   ]
  },
  {
   "cell_type": "markdown",
   "metadata": {},
   "source": [
    "5. Write a function that returns the count of unique answers to all of the questions in a dataset. For example, after filtering the entire dataset to only questions containing the word `\"King\"`, we could then find all of the unique answers to those questions. The answer \"Henry VIII\" appeared 55 times and was the most common answer."
   ]
  },
  {
   "cell_type": "code",
   "execution_count": 27,
   "metadata": {},
   "outputs": [
    {
     "name": "stdout",
     "output_type": "stream",
     "text": [
      "Henry VIII                   55\n",
      "Solomon                      35\n",
      "Richard III                  33\n",
      "Louis XIV                    31\n",
      "David                        30\n",
      "                             ..\n",
      "cardiac (in card I acted)     1\n",
      "Henderson                     1\n",
      "Computer                      1\n",
      "Indians                       1\n",
      "work                          1\n",
      "Name: answer, Length: 5268, dtype: int64\n"
     ]
    }
   ],
   "source": [
    "# A function to find the unique answers of a set of data\n",
    "def get_answer_counts(data):\n",
    "    return data[\"answer\"].value_counts()\n",
    "\n",
    "# Testing the answer count function\n",
    "# Combined with the filtered data above\n",
    "print(get_answer_counts(filtered))"
   ]
  },
  {
   "attachments": {},
   "cell_type": "markdown",
   "metadata": {},
   "source": [
    "Further ideas on ways to continue working with this data:\n",
    "\n",
    " * Investigate the ways in which questions change over time by filtering by the date. How many questions from the 90s use the word `\"Computer\"` compared to questions from the 2000s?\n",
    " * Is there a connection between the round and the category? Are you more likely to find certain categories, like `\"Literature\"` in Single Jeopardy or Double Jeopardy?\n",
    " * Build a system to quiz yourself. Grab random questions, and use the <a href=\"https://docs.python.org/3/library/functions.html#input\">input</a> function to get a response from the user. Check to see if that response was right or wrong."
   ]
  }
 ],
 "metadata": {
  "kernelspec": {
   "display_name": "Python 3",
   "language": "python",
   "name": "python3"
  },
  "language_info": {
   "codemirror_mode": {
    "name": "ipython",
    "version": 3
   },
   "file_extension": ".py",
   "mimetype": "text/x-python",
   "name": "python",
   "nbconvert_exporter": "python",
   "pygments_lexer": "ipython3",
   "version": "3.10.5"
  },
  "vscode": {
   "interpreter": {
    "hash": "a42ccb73e7d9bfdf27e036f1d2b8b681e55fc0743cc5586bc2474d4a60f4b886"
   }
  }
 },
 "nbformat": 4,
 "nbformat_minor": 2
}
